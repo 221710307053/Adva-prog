{
  "nbformat": 4,
  "nbformat_minor": 0,
  "metadata": {
    "colab": {
      "name": "Assignment-4(30-05-2020)",
      "provenance": [],
      "authorship_tag": "ABX9TyPpefo5r2Bb+nVjC2yZ/p/8",
      "include_colab_link": true
    },
    "kernelspec": {
      "name": "python3",
      "display_name": "Python 3"
    }
  },
  "cells": [
    {
      "cell_type": "markdown",
      "metadata": {
        "id": "view-in-github",
        "colab_type": "text"
      },
      "source": [
        "<a href=\"https://colab.research.google.com/github/sakshi953/Adva-prog/blob/master/Assignment_4(30_05_2020).ipynb\" target=\"_parent\"><img src=\"https://colab.research.google.com/assets/colab-badge.svg\" alt=\"Open In Colab\"/></a>"
      ]
    },
    {
      "cell_type": "markdown",
      "metadata": {
        "id": "BxrH5339CfL2",
        "colab_type": "text"
      },
      "source": [
        "#CSE - 221710307059 - Tummala Sai Padmasree"
      ]
    },
    {
      "cell_type": "markdown",
      "metadata": {
        "id": "rz-KpnyCDF64",
        "colab_type": "text"
      },
      "source": [
        "#File Creation"
      ]
    },
    {
      "cell_type": "code",
      "metadata": {
        "id": "xpV-mxczDL1m",
        "colab_type": "code",
        "colab": {}
      },
      "source": [
        "f=open(\"sample.txt\",\"w\")\n",
        "f.write(\"Hi Everyone\")\n",
        "f.close()"
      ],
      "execution_count": 0,
      "outputs": []
    },
    {
      "cell_type": "code",
      "metadata": {
        "id": "YXEk8DK7DOEW",
        "colab_type": "code",
        "colab": {}
      },
      "source": [
        "f=open(\"sample.txt\",\"a\")\n",
        "s='''\\n This is python programming\n",
        "in Advanced Programming'''\n",
        "f.write(s)\n",
        "f.close()"
      ],
      "execution_count": 0,
      "outputs": []
    },
    {
      "cell_type": "markdown",
      "metadata": {
        "id": "HTGlcP50De0n",
        "colab_type": "text"
      },
      "source": [
        "#Question 1:\n",
        "Count the no.of words,no.of letters,no.of lines available in your file"
      ]
    },
    {
      "cell_type": "code",
      "metadata": {
        "id": "PWlI4WIQDiM3",
        "colab_type": "code",
        "outputId": "e533c079-167e-4018-cec0-f48e9b75c351",
        "colab": {
          "base_uri": "https://localhost:8080/",
          "height": 34
        }
      },
      "source": [
        "\n",
        "f = open(\"sample.txt\", \"r\")\n",
        "\n",
        "numberoflines = 0\n",
        "numberofwords = 0\n",
        "letters = 0\n",
        "for l in f:\n",
        "  l = l.strip(\"\\n\")\n",
        "\n",
        "  words = l.split()\n",
        "  numberoflines += 1\n",
        "  numberofwords += len(words)\n",
        "  letters += len(l)\n",
        "\n",
        "f.close()\n",
        "\n",
        "print(\"lines:\", numberoflines, \"words:\", numberofwords, \"letters:\", letters)"
      ],
      "execution_count": 0,
      "outputs": [
        {
          "output_type": "stream",
          "text": [
            "lines: 3 words: 9 letters: 61\n"
          ],
          "name": "stdout"
        }
      ]
    },
    {
      "cell_type": "markdown",
      "metadata": {
        "id": "87NJ8opcDmp3",
        "colab_type": "text"
      },
      "source": [
        "#Question 2:\n",
        "Copy the content of one file to another"
      ]
    },
    {
      "cell_type": "code",
      "metadata": {
        "id": "hAPbqGnWDrdH",
        "colab_type": "code",
        "colab": {}
      },
      "source": [
        "\n",
        "f=open(\"sample.txt\",\"r\")\n",
        "f1=open(\"text.txt\",\"w\")\n",
        "for line in f:\n",
        "  f1.write(line)\n",
        "f.close()\n",
        "f1.close()"
      ],
      "execution_count": 0,
      "outputs": []
    },
    {
      "cell_type": "code",
      "metadata": {
        "id": "XwkPgGc_Dtun",
        "colab_type": "code",
        "outputId": "8710c8df-d2e2-42a7-efd8-4b4ee03a6654",
        "colab": {
          "base_uri": "https://localhost:8080/",
          "height": 68
        }
      },
      "source": [
        "f1=open(\"text.txt\",\"r\")\n",
        "data=f1.read()\n",
        "print(data)\n",
        "f1.close()"
      ],
      "execution_count": 0,
      "outputs": [
        {
          "output_type": "stream",
          "text": [
            "Hi Everyone\n",
            " This is python programming\n",
            "in Advanced Programming\n"
          ],
          "name": "stdout"
        }
      ]
    },
    {
      "cell_type": "markdown",
      "metadata": {
        "id": "5YczRBgMD1po",
        "colab_type": "text"
      },
      "source": [
        "# Question 3:\n",
        "Display the words starting with letter 'p'"
      ]
    },
    {
      "cell_type": "code",
      "metadata": {
        "id": "aQ7wyRnJD4kf",
        "colab_type": "code",
        "outputId": "d39dac52-6530-4dbf-bcae-ee64a7893d41",
        "colab": {
          "base_uri": "https://localhost:8080/",
          "height": 51
        }
      },
      "source": [
        "\n",
        "f=open(\"sample.txt\",\"r\")\n",
        "for line in f:\n",
        "  words=line.split()\n",
        "  for i in words:\n",
        "    if(i[0]==\"p\"):\n",
        "      print(i)"
      ],
      "execution_count": 0,
      "outputs": [
        {
          "output_type": "stream",
          "text": [
            "python\n",
            "programming\n"
          ],
          "name": "stdout"
        }
      ]
    },
    {
      "cell_type": "markdown",
      "metadata": {
        "id": "OFffYSbSD9I_",
        "colab_type": "text"
      },
      "source": [
        "#Question 4:\n",
        "Rename and remove files"
      ]
    },
    {
      "cell_type": "code",
      "metadata": {
        "id": "Kg6nwOJSEA9K",
        "colab_type": "code",
        "colab": {}
      },
      "source": [
        "import os\n",
        "os.rename(\"text.txt\",\"new.txt\")\n",
        "os.remove(\"new.txt\")"
      ],
      "execution_count": 0,
      "outputs": []
    },
    {
      "cell_type": "markdown",
      "metadata": {
        "id": "TJK9DoLZEFQJ",
        "colab_type": "text"
      },
      "source": [
        "#\n",
        "Question 5:\n",
        "\n",
        "Create a folder\n",
        "\n",
        "Goto that folder and create 5 no.of files\n",
        "\n",
        "All the file names should be unique\n",
        "\n",
        "Add some content into the file and the content in all the files should be unique\n",
        "\n",
        "File size should be 512bits"
      ]
    },
    {
      "cell_type": "code",
      "metadata": {
        "id": "Hq40JOnpEMho",
        "colab_type": "code",
        "outputId": "312e3e03-31c2-4987-e60e-ae613e78eb4b",
        "colab": {
          "base_uri": "https://localhost:8080/",
          "height": 34
        }
      },
      "source": [
        "import os\n",
        "path=\"/tmp/ap\"\n",
        "\n",
        "try:\n",
        "  os.mkdir(path)\n",
        "except OSError:\n",
        "  print(\"unsuccessfull \")\n",
        "else:\n",
        "  print(\"Successfully created the directory %s\" %path)"
      ],
      "execution_count": 0,
      "outputs": [
        {
          "output_type": "stream",
          "text": [
            "Successfully created the directory /tmp/ap\n"
          ],
          "name": "stdout"
        }
      ]
    },
    {
      "cell_type": "code",
      "metadata": {
        "id": "1Z-So07TEQOc",
        "colab_type": "code",
        "colab": {}
      },
      "source": [
        "import os\n",
        "path=\"/tmp/ap\"\n",
        "os.chdir(path)\n"
      ],
      "execution_count": 0,
      "outputs": []
    },
    {
      "cell_type": "code",
      "metadata": {
        "id": "R8wT8U_4EUQ6",
        "colab_type": "code",
        "colab": {}
      },
      "source": [
        "f=open(os.path.join('/tmp/ap','file1.txt'),\"w\")\n",
        "f.write(\"This is the first file in the folder ap(advanced programming)   \")\n",
        "f.close()"
      ],
      "execution_count": 0,
      "outputs": []
    },
    {
      "cell_type": "code",
      "metadata": {
        "id": "gG_rOBr0EWro",
        "colab_type": "code",
        "colab": {}
      },
      "source": [
        "f=open(os.path.join('/tmp/ap','file2.txt'),\"w\")\n",
        "f.write(\"This is the second file in the folder ap(advanced programming)  \")\n",
        "f.close()"
      ],
      "execution_count": 0,
      "outputs": []
    },
    {
      "cell_type": "code",
      "metadata": {
        "id": "OHm31L4lEZtR",
        "colab_type": "code",
        "colab": {}
      },
      "source": [
        "\n",
        "f=open(os.path.join('/tmp/ap','file3.txt'),\"w\")\n",
        "f.write(\"This is the third file in the ap(advanced programming) floder   \")\n",
        "f.close()"
      ],
      "execution_count": 0,
      "outputs": []
    },
    {
      "cell_type": "code",
      "metadata": {
        "id": "yN_XGXshEb9J",
        "colab_type": "code",
        "colab": {}
      },
      "source": [
        "f=open(os.path.join('/tmp/ap','file4.txt'),\"w\")\n",
        "f.write(\"This is the fourth file                                         \")\n",
        "f.close()"
      ],
      "execution_count": 0,
      "outputs": []
    },
    {
      "cell_type": "code",
      "metadata": {
        "id": "ZZqSx-ySErmj",
        "colab_type": "code",
        "colab": {}
      },
      "source": [
        "\n",
        "f=open(os.path.join('/tmp/ap','file5.txt'),\"w\")\n",
        "f.write(\"This is the fifth file                                          \")\n",
        "f.close()"
      ],
      "execution_count": 0,
      "outputs": []
    },
    {
      "cell_type": "code",
      "metadata": {
        "id": "20sChP88EvOG",
        "colab_type": "code",
        "outputId": "34224766-4667-4ea7-fb9b-6932385e0291",
        "colab": {
          "base_uri": "https://localhost:8080/",
          "height": 71
        }
      },
      "source": [
        "import os\n",
        "file=\"/tmp/ap/file1.txt\"\n",
        "f_stats=os.stat('file1.txt')\n",
        "print(f_stats)\n",
        "print(f'File size {f_stats.st_size} bytes')"
      ],
      "execution_count": 0,
      "outputs": [
        {
          "output_type": "stream",
          "text": [
            "os.stat_result(st_mode=33188, st_ino=6422614, st_dev=51, st_nlink=1, st_uid=0, st_gid=0, st_size=64, st_atime=1590950980, st_mtime=1590950980, st_ctime=1590950980)\n",
            "File size 64 bytes\n"
          ],
          "name": "stdout"
        }
      ]
    },
    {
      "cell_type": "code",
      "metadata": {
        "id": "zT7MB5tPEzP_",
        "colab_type": "code",
        "outputId": "ae1062f2-0a3c-48ba-fc8f-0e1ac48d4fe1",
        "colab": {
          "base_uri": "https://localhost:8080/",
          "height": 71
        }
      },
      "source": [
        "import os\n",
        "file=\"/tmp/ap/file2.txt\"\n",
        "f_stats=os.stat('file2.txt')\n",
        "print(f_stats)\n",
        "print(f'File size {f_stats.st_size} bytes')"
      ],
      "execution_count": 0,
      "outputs": [
        {
          "output_type": "stream",
          "text": [
            "os.stat_result(st_mode=33188, st_ino=6422615, st_dev=51, st_nlink=1, st_uid=0, st_gid=0, st_size=64, st_atime=1590950993, st_mtime=1590950993, st_ctime=1590950993)\n",
            "File size 64 bytes\n"
          ],
          "name": "stdout"
        }
      ]
    },
    {
      "cell_type": "code",
      "metadata": {
        "id": "Z5-FmYhsE2kH",
        "colab_type": "code",
        "outputId": "23dd6240-9b1e-4b9c-8e7d-f9ce7df2c95c",
        "colab": {
          "base_uri": "https://localhost:8080/",
          "height": 71
        }
      },
      "source": [
        "import os\n",
        "file=\"/tmp/ap/file3.txt\"\n",
        "f_stats=os.stat('file3.txt')\n",
        "print(f_stats)\n",
        "print(f'File size {f_stats.st_size} bytes')"
      ],
      "execution_count": 0,
      "outputs": [
        {
          "output_type": "stream",
          "text": [
            "os.stat_result(st_mode=33188, st_ino=6422617, st_dev=51, st_nlink=1, st_uid=0, st_gid=0, st_size=64, st_atime=1590951052, st_mtime=1590951052, st_ctime=1590951052)\n",
            "File size 64 bytes\n"
          ],
          "name": "stdout"
        }
      ]
    },
    {
      "cell_type": "code",
      "metadata": {
        "id": "rBSp9w0nE7UE",
        "colab_type": "code",
        "outputId": "bcd6529a-5cbc-4a88-96f5-64e2e3963c11",
        "colab": {
          "base_uri": "https://localhost:8080/",
          "height": 71
        }
      },
      "source": [
        "import os\n",
        "file=\"/tmp/ap/file4.txt\"\n",
        "f_stats=os.stat('file4.txt')\n",
        "print(f_stats)\n",
        "print(f'File size {f_stats.st_size} bytes')"
      ],
      "execution_count": 0,
      "outputs": [
        {
          "output_type": "stream",
          "text": [
            "os.stat_result(st_mode=33188, st_ino=6422616, st_dev=51, st_nlink=1, st_uid=0, st_gid=0, st_size=64, st_atime=1590951002, st_mtime=1590951066, st_ctime=1590951066)\n",
            "File size 64 bytes\n"
          ],
          "name": "stdout"
        }
      ]
    },
    {
      "cell_type": "code",
      "metadata": {
        "id": "1PexnZv2E_WM",
        "colab_type": "code",
        "outputId": "03f471f4-dc6d-480b-d5ca-a0a97b955b1c",
        "colab": {
          "base_uri": "https://localhost:8080/",
          "height": 71
        }
      },
      "source": [
        "import os\n",
        "file=\"/tmp/ap/file5.txt\"\n",
        "f_stats=os.stat('file5.txt')\n",
        "print(f_stats)\n",
        "print(f'File size {f_stats.st_size} bytes')"
      ],
      "execution_count": 0,
      "outputs": [
        {
          "output_type": "stream",
          "text": [
            "os.stat_result(st_mode=33188, st_ino=6422618, st_dev=51, st_nlink=1, st_uid=0, st_gid=0, st_size=64, st_atime=1590951081, st_mtime=1590951081, st_ctime=1590951081)\n",
            "File size 64 bytes\n"
          ],
          "name": "stdout"
        }
      ]
    },
    {
      "cell_type": "code",
      "metadata": {
        "id": "5WNvW0H_FDOG",
        "colab_type": "code",
        "colab": {}
      },
      "source": [
        ""
      ],
      "execution_count": 0,
      "outputs": []
    }
  ]
}