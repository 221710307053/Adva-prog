{
  "nbformat": 4,
  "nbformat_minor": 0,
  "metadata": {
    "colab": {
      "name": "advanced programming",
      "provenance": [],
      "authorship_tag": "ABX9TyNf/zVDxUMlFGMxbebYItH4",
      "include_colab_link": true
    },
    "kernelspec": {
      "name": "python3",
      "display_name": "Python 3"
    }
  },
  "cells": [
    {
      "cell_type": "markdown",
      "metadata": {
        "id": "view-in-github",
        "colab_type": "text"
      },
      "source": [
        "<a href=\"https://colab.research.google.com/github/sakshi953/Adva-prog/blob/master/advanced_programming.ipynb\" target=\"_parent\"><img src=\"https://colab.research.google.com/assets/colab-badge.svg\" alt=\"Open In Colab\"/></a>"
      ]
    },
    {
      "cell_type": "code",
      "metadata": {
        "id": "wQDr5eihRvl0",
        "colab_type": "code",
        "colab": {}
      },
      "source": [
        ""
      ],
      "execution_count": 0,
      "outputs": []
    },
    {
      "cell_type": "markdown",
      "metadata": {
        "id": "ZBnVh6EQUDrl",
        "colab_type": "text"
      },
      "source": [
        "# python programming\n",
        "##python programming\n",
        "###python programming\n",
        "####python programming\n"
      ]
    },
    {
      "cell_type": "markdown",
      "metadata": {
        "id": "5nsmJptITfJ3",
        "colab_type": "text"
      },
      "source": [
        ""
      ]
    },
    {
      "cell_type": "code",
      "metadata": {
        "id": "q67x17APTtxz",
        "colab_type": "code",
        "colab": {
          "base_uri": "https://localhost:8080/",
          "height": 34
        },
        "outputId": "6d459195-afd4-4bc3-a19c-4802a0bba3e6"
      },
      "source": [
        "print(\"Hello!!!\")\n"
      ],
      "execution_count": 2,
      "outputs": [
        {
          "output_type": "stream",
          "text": [
            "Hello!!!\n"
          ],
          "name": "stdout"
        }
      ]
    },
    {
      "cell_type": "code",
      "metadata": {
        "id": "OQYh7MG5UuJN",
        "colab_type": "code",
        "colab": {
          "base_uri": "https://localhost:8080/",
          "height": 128
        },
        "outputId": "774521b2-758d-4e9e-a2ab-53a439684f68"
      },
      "source": [
        "###list of programming languages:\n",
        "1.python\n",
        "2.java\n",
        "3.c\n",
        "4.c++"
      ],
      "execution_count": 3,
      "outputs": [
        {
          "output_type": "error",
          "ename": "SyntaxError",
          "evalue": "ignored",
          "traceback": [
            "\u001b[0;36m  File \u001b[0;32m\"<ipython-input-3-56a6a1b6c0d9>\"\u001b[0;36m, line \u001b[0;32m2\u001b[0m\n\u001b[0;31m    1.python\u001b[0m\n\u001b[0m           ^\u001b[0m\n\u001b[0;31mSyntaxError\u001b[0m\u001b[0;31m:\u001b[0m invalid syntax\n"
          ]
        }
      ]
    },
    {
      "cell_type": "markdown",
      "metadata": {
        "id": "nsYClr7qVUgt",
        "colab_type": "text"
      },
      "source": [
        ""
      ]
    },
    {
      "cell_type": "markdown",
      "metadata": {
        "id": "QvFcACSXVnO5",
        "colab_type": "text"
      },
      "source": [
        "###List of programming languages:(ordered list)\n",
        "1. python\n",
        "2. java\n",
        "3. c\n",
        "4. c++\n",
        "5. .NET\n"
      ]
    },
    {
      "cell_type": "code",
      "metadata": {
        "id": "Vq_fhDusWEjh",
        "colab_type": "code",
        "colab": {}
      },
      "source": [
        ""
      ],
      "execution_count": 0,
      "outputs": []
    },
    {
      "cell_type": "markdown",
      "metadata": {
        "id": "v94cudiJWF3d",
        "colab_type": "text"
      },
      "source": [
        "###List of programming languages:(unordered list)\n",
        "-python\n",
        "      - core python\n",
        "      - adv python\n",
        "- java\n",
        "- c\n",
        "- c++\n",
        "- .NET\n"
      ]
    },
    {
      "cell_type": "code",
      "metadata": {
        "id": "IVLQRXsYWyAX",
        "colab_type": "code",
        "colab": {}
      },
      "source": [
        ""
      ],
      "execution_count": 0,
      "outputs": []
    },
    {
      "cell_type": "markdown",
      "metadata": {
        "id": "phrrBeM8XDL9",
        "colab_type": "text"
      },
      "source": [
        "- **python programming**\n",
        "- *python programming*"
      ]
    },
    {
      "cell_type": "markdown",
      "metadata": {
        "id": "xxmrzQMCXBMA",
        "colab_type": "text"
      },
      "source": [
        ""
      ]
    },
    {
      "cell_type": "markdown",
      "metadata": {
        "id": "6ANj9PpOYBpD",
        "colab_type": "text"
      },
      "source": [
        "[click here for doccumentation](https://docs.google.com/document/d/1NUWRUi53uEEP8sUAKZGx4nDbi3ExZf0GUEpE5vi8n34/edit?usp=sharin)\n"
      ]
    },
    {
      "cell_type": "markdown",
      "metadata": {
        "colab_type": "text",
        "id": "l6YKFwj_ZG9x"
      },
      "source": [
        ".[click here for doccumentation].()"
      ]
    },
    {
      "cell_type": "code",
      "metadata": {
        "id": "er1lzZ-Hcu0i",
        "colab_type": "code",
        "colab": {}
      },
      "source": [
        ""
      ],
      "execution_count": 0,
      "outputs": []
    },
    {
      "cell_type": "markdown",
      "metadata": {
        "id": "S6GicCC0axdn",
        "colab_type": "text"
      },
      "source": [
        "![image](https://assets.vogue.com/photos/5e98b7afbdb99a0008102516/16:9/w_1280,c_limit/00_social.jpg)"
      ]
    },
    {
      "cell_type": "markdown",
      "metadata": {
        "id": "rJMhvfHucBPC",
        "colab_type": "text"
      },
      "source": [
        ""
      ]
    },
    {
      "cell_type": "code",
      "metadata": {
        "id": "KvRBDeLRbYCq",
        "colab_type": "code",
        "colab": {}
      },
      "source": [
        ""
      ],
      "execution_count": 0,
      "outputs": []
    },
    {
      "cell_type": "markdown",
      "metadata": {
        "id": "w23vz8Yjd_GX",
        "colab_type": "text"
      },
      "source": [
        "### Guido Van Rossum"
      ]
    },
    {
      "cell_type": "code",
      "metadata": {
        "id": "xzAgOouVeDHA",
        "colab_type": "code",
        "colab": {}
      },
      "source": [
        ""
      ],
      "execution_count": 0,
      "outputs": []
    },
    {
      "cell_type": "markdown",
      "metadata": {
        "id": "ggfuA6UaelcA",
        "colab_type": "text"
      },
      "source": [
        "#Numeric Data types:\n",
        "1. int\n",
        "2. float\n",
        "3. complex"
      ]
    },
    {
      "cell_type": "code",
      "metadata": {
        "id": "ginfE0nqe0-d",
        "colab_type": "code",
        "colab": {}
      },
      "source": [
        ""
      ],
      "execution_count": 0,
      "outputs": []
    },
    {
      "cell_type": "markdown",
      "metadata": {
        "id": "IeKLUi3Bfc-P",
        "colab_type": "text"
      },
      "source": [
        "a = 10 #integer\n",
        "a = 23.34 #float\n",
        "a = "
      ]
    },
    {
      "cell_type": "code",
      "metadata": {
        "id": "ErM8BH3Lfn-M",
        "colab_type": "code",
        "colab": {
          "base_uri": "https://localhost:8080/",
          "height": 34
        },
        "outputId": "c6033cbf-bc2a-4766-85de-440aa827d469"
      },
      "source": [
        "a = 10 #integer \n",
        "b = 23.34 #float\n",
        "c = 12+3j #complex number\n",
        "\n",
        "print(type(a),type(b),type(c))"
      ],
      "execution_count": 4,
      "outputs": [
        {
          "output_type": "stream",
          "text": [
            "<class 'int'> <class 'float'> <class 'complex'>\n"
          ],
          "name": "stdout"
        }
      ]
    },
    {
      "cell_type": "code",
      "metadata": {
        "id": "dUlcE_0pf8NT",
        "colab_type": "code",
        "colab": {
          "base_uri": "https://localhost:8080/",
          "height": 84
        },
        "outputId": "c7a9f99a-6d37-4366-a2d7-0b0b9444cc64"
      },
      "source": [
        "c1 = 4+5j\n",
        "c2 = complex(6,8)\n",
        "print(c2)\n",
        "print(c1+c2)\n",
        "print(c2.real)#real part of the complex number\n",
        "print(c2.imag)#imaginary part of the complex number\n"
      ],
      "execution_count": 6,
      "outputs": [
        {
          "output_type": "stream",
          "text": [
            "(6+8j)\n",
            "(10+13j)\n",
            "6.0\n",
            "8.0\n"
          ],
          "name": "stdout"
        }
      ]
    },
    {
      "cell_type": "code",
      "metadata": {
        "id": "HL7Qcko3gxYa",
        "colab_type": "code",
        "colab": {
          "base_uri": "https://localhost:8080/",
          "height": 84
        },
        "outputId": "19a8260a-8e37-4170-ab5d-ae4749cfb9bf"
      },
      "source": [
        "#input and output functions\n",
        "#input -----> input()\n",
        "#output -----> print()\n",
        "a = int(input(\"Enter the value of a\"))\n",
        "b = int(input(\"Enter the value of b\"))\n",
        "print(a+b,end=\" \")\n",
        "print(a-b,a*b,sep=\",\")\n",
        "print(a/b)"
      ],
      "execution_count": 13,
      "outputs": [
        {
          "output_type": "stream",
          "text": [
            "Enter the value of a10\n",
            "Enter the value of b20\n",
            "30 -10,200\n",
            "0.5\n"
          ],
          "name": "stdout"
        }
      ]
    },
    {
      "cell_type": "code",
      "metadata": {
        "id": "F8VSgOSCiQAs",
        "colab_type": "code",
        "colab": {
          "base_uri": "https://localhost:8080/",
          "height": 84
        },
        "outputId": "725dcb34-72ac-4416-db7f-91826377daca"
      },
      "source": [
        "a = float(input(\"Enter the value of a\"))\n",
        "b = float(input(\"Enter the value of b\"))\n",
        "print(a+b)\n",
        "print(a-b)"
      ],
      "execution_count": 9,
      "outputs": [
        {
          "output_type": "stream",
          "text": [
            "Enter the value of a10.5\n",
            "Enter the value of b20.4\n",
            "30.9\n",
            "-9.899999999999999\n"
          ],
          "name": "stdout"
        }
      ]
    },
    {
      "cell_type": "markdown",
      "metadata": {
        "id": "3PrLIPHEkkcw",
        "colab_type": "text"
      },
      "source": [
        "#Operators:symbol which performs some specific task\n",
        "#operands : values given to operators are known as operands\n",
        "\n",
        "\n"
      ]
    },
    {
      "cell_type": "code",
      "metadata": {
        "id": "-6ZtnwQhjNLX",
        "colab_type": "code",
        "colab": {
          "base_uri": "https://localhost:8080/",
          "height": 168
        },
        "outputId": "28051ada-a4db-41c4-91af-9735f059de26"
      },
      "source": [
        "#ARithmetic operators : +,_,*,/,%,//(floor division),**(exponential)\n",
        "a = int(input(\"Enter a value\"))\n",
        "b = int(input(\"Enter b value\"))\n",
        "print(a + b)\n",
        "print(a - b)\n",
        "print(a * b)\n",
        "print(a / b)#float quotient\n",
        "print(a % b)#remainder\n",
        "print(a // b)#int quotient\n",
        "print(a ** b)#power value a^b value on the screen\n"
      ],
      "execution_count": 14,
      "outputs": [
        {
          "output_type": "stream",
          "text": [
            "Enter a value2\n",
            "Enter b value5\n",
            "7\n",
            "-3\n",
            "10\n",
            "0.4\n",
            "2\n",
            "0\n",
            "32\n"
          ],
          "name": "stdout"
        }
      ]
    },
    {
      "cell_type": "code",
      "metadata": {
        "id": "DQGd5MWflrZ7",
        "colab_type": "code",
        "colab": {
          "base_uri": "https://localhost:8080/",
          "height": 118
        },
        "outputId": "1119bada-ada6-40da-99d2-92d51f488fce"
      },
      "source": [
        "#Relational operators ==,>,<,>=,<=,!=\n",
        "print(a<b)\n",
        "print(a>b)\n",
        "print(a<=b)\n",
        "print(a>=b)\n",
        "print(a==b)\n",
        "print(a != b)"
      ],
      "execution_count": 15,
      "outputs": [
        {
          "output_type": "stream",
          "text": [
            "True\n",
            "False\n",
            "True\n",
            "False\n",
            "False\n",
            "True\n"
          ],
          "name": "stdout"
        }
      ]
    },
    {
      "cell_type": "code",
      "metadata": {
        "id": "s0A0_Y1hoCCD",
        "colab_type": "code",
        "colab": {
          "base_uri": "https://localhost:8080/",
          "height": 252
        },
        "outputId": "133f1306-6a6f-45a9-aac3-1e2f23f99d7a"
      },
      "source": [
        "#Logical operators: and,or,not in python we dont have any symbols to represent logical operators\n",
        "print(help(\"keywords\"))\n"
      ],
      "execution_count": 18,
      "outputs": [
        {
          "output_type": "stream",
          "text": [
            "\n",
            "Here is a list of the Python keywords.  Enter any keyword to get more help.\n",
            "\n",
            "False               def                 if                  raise\n",
            "None                del                 import              return\n",
            "True                elif                in                  try\n",
            "and                 else                is                  while\n",
            "as                  except              lambda              with\n",
            "assert              finally             nonlocal            yield\n",
            "break               for                 not                 \n",
            "class               from                or                  \n",
            "continue            global              pass                \n",
            "\n",
            "None\n"
          ],
          "name": "stdout"
        }
      ]
    },
    {
      "cell_type": "code",
      "metadata": {
        "id": "rnCyxukGojtF",
        "colab_type": "code",
        "colab": {
          "base_uri": "https://localhost:8080/",
          "height": 67
        },
        "outputId": "92d319b3-a86e-40ac-9c4a-405078b197c0"
      },
      "source": [
        "print(a < b and a>1)\n",
        "print(a < b or a>1)\n",
        "print(not a < b)"
      ],
      "execution_count": 19,
      "outputs": [
        {
          "output_type": "stream",
          "text": [
            "True\n",
            "True\n",
            "False\n"
          ],
          "name": "stdout"
        }
      ]
    },
    {
      "cell_type": "code",
      "metadata": {
        "id": "58_bTuP0pFLX",
        "colab_type": "code",
        "colab": {
          "base_uri": "https://localhost:8080/",
          "height": 34
        },
        "outputId": "563cbbbd-3531-4926-b654-d028a352ec1e"
      },
      "source": [
        "#conditional statements:if,else,elif\n",
        "if a < b:\n",
        "    print(\"a is less than b\")\n",
        "elif a>b:\n",
        "    print(\"a is greater or equals to b\")\n",
        "else:\n",
        "    print(\"a or equals to b\")"
      ],
      "execution_count": 21,
      "outputs": [
        {
          "output_type": "stream",
          "text": [
            "a is less than b\n"
          ],
          "name": "stdout"
        }
      ]
    },
    {
      "cell_type": "code",
      "metadata": {
        "id": "5U9V_UP0tv-A",
        "colab_type": "code",
        "colab": {
          "base_uri": "https://localhost:8080/",
          "height": 84
        },
        "outputId": "e4ca0993-7fe9-4e80-a08e-b3f8e3b5434d"
      },
      "source": [
        "#Question : FInd the largest of three numbers\n",
        "a = int(input(\"enter a value\"))\n",
        "b = int(input(\"enter b value\"))\n",
        "c = int(input(\"enter c value\"))\n",
        "if a>b and a<c:\n",
        "    print(\"largest number is a:\",a)\n",
        "elif b>c:\n",
        "    print(\"largest number is b:\",b)\n",
        "else:\n",
        "     print(\"largest number is c:\",c)"
      ],
      "execution_count": 23,
      "outputs": [
        {
          "output_type": "stream",
          "text": [
            "enter a value2\n",
            "enter b value5\n",
            "enter c value6\n",
            "largest number is c: 6\n"
          ],
          "name": "stdout"
        }
      ]
    },
    {
      "cell_type": "code",
      "metadata": {
        "id": "ymxp0eZBvDBQ",
        "colab_type": "code",
        "colab": {
          "base_uri": "https://localhost:8080/",
          "height": 50
        },
        "outputId": "f5e58c62-df13-4157-e449-05d5873c9f19"
      },
      "source": [
        "#loops : while,for\n",
        "#print 1 to n value\n",
        "n = int(input(\"enter n value\"))\n",
        "i = 1\n",
        "while i<=n:\n",
        "    print(i,end=\" \")\n",
        "    i += 1#same as i=i+1 because in python there is no increment operator"
      ],
      "execution_count": 26,
      "outputs": [
        {
          "output_type": "stream",
          "text": [
            "enter n value10\n",
            "1 2 3 4 5 6 7 8 9 10 "
          ],
          "name": "stdout"
        }
      ]
    },
    {
      "cell_type": "code",
      "metadata": {
        "id": "JN20X7d7wDjX",
        "colab_type": "code",
        "colab": {}
      },
      "source": [
        "10"
      ],
      "execution_count": 0,
      "outputs": []
    }
  ]
}