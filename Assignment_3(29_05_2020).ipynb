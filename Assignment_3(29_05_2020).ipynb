{
  "nbformat": 4,
  "nbformat_minor": 0,
  "metadata": {
    "colab": {
      "name": "Assignment-3(29-05-2020)",
      "provenance": [],
      "authorship_tag": "ABX9TyOm8aL2W/QvlnR3zmuVuFAu",
      "include_colab_link": true
    },
    "kernelspec": {
      "name": "python3",
      "display_name": "Python 3"
    }
  },
  "cells": [
    {
      "cell_type": "markdown",
      "metadata": {
        "id": "view-in-github",
        "colab_type": "text"
      },
      "source": [
        "<a href=\"https://colab.research.google.com/github/sakshi953/Adva-prog/blob/master/Assignment_3(29_05_2020).ipynb\" target=\"_parent\"><img src=\"https://colab.research.google.com/assets/colab-badge.svg\" alt=\"Open In Colab\"/></a>"
      ]
    },
    {
      "cell_type": "markdown",
      "metadata": {
        "id": "HIPRQFJgAVuy",
        "colab_type": "text"
      },
      "source": [
        "#Question 1:\n",
        "Create a function to find Factorial of a number using Recursion"
      ]
    },
    {
      "cell_type": "code",
      "metadata": {
        "id": "stdSMtkuAgE4",
        "colab_type": "code",
        "outputId": "f2f173ed-e2e2-4dda-a448-e4febb68cdf6",
        "colab": {
          "base_uri": "https://localhost:8080/",
          "height": 34
        }
      },
      "source": [
        "def factorial(n):\n",
        "  if n==0 or n==1:\n",
        "    return 1\n",
        "  else:\n",
        "    return n*factorial(n-1)\n",
        "print(factorial(5))"
      ],
      "execution_count": 0,
      "outputs": [
        {
          "output_type": "stream",
          "text": [
            "120\n"
          ],
          "name": "stdout"
        }
      ]
    },
    {
      "cell_type": "markdown",
      "metadata": {
        "id": "5Mc-32XAAldC",
        "colab_type": "text"
      },
      "source": [
        "\n",
        "#Question 2:\n",
        "Create a function and display ‘n’ Fibonacci numbers using Recursion"
      ]
    },
    {
      "cell_type": "code",
      "metadata": {
        "id": "XUhKFh3kAtID",
        "colab_type": "code",
        "outputId": "af8a04d3-ee6e-4669-804e-bcfd4b670399",
        "colab": {
          "base_uri": "https://localhost:8080/",
          "height": 204
        }
      },
      "source": [
        "def recur_fibo(n):\n",
        "   if n <= 1:\n",
        "       return n\n",
        "   else:\n",
        "       return(recur_fibo(n-1) + recur_fibo(n-2))\n",
        "\n",
        "nterms = 10\n",
        "\n",
        "\n",
        "if nterms <= 0:\n",
        "   print(\"Please enter a positive integer\")\n",
        "else:\n",
        "   print(\"Fibonacci sequence:\")\n",
        "   for i in range(nterms):\n",
        "       print(recur_fibo(i))"
      ],
      "execution_count": 0,
      "outputs": [
        {
          "output_type": "stream",
          "text": [
            "Fibonacci sequence:\n",
            "0\n",
            "1\n",
            "1\n",
            "2\n",
            "3\n",
            "5\n",
            "8\n",
            "13\n",
            "21\n",
            "34\n"
          ],
          "name": "stdout"
        }
      ]
    },
    {
      "cell_type": "markdown",
      "metadata": {
        "id": "PJe_PXXuA13G",
        "colab_type": "text"
      },
      "source": [
        "#Question 3:\n",
        "Print sum of list of elements without using sum() function"
      ]
    },
    {
      "cell_type": "code",
      "metadata": {
        "id": "oo4DVbqYA_s8",
        "colab_type": "code",
        "outputId": "e94b6379-6a4c-4072-84dd-96f702453098",
        "colab": {
          "base_uri": "https://localhost:8080/",
          "height": 34
        }
      },
      "source": [
        "list1=[1,2,3,4]\n",
        "total=0\n",
        "for i in range(0,len(list1)):\n",
        "  total=total+list1[i]\n",
        "print(\"sum of all elements in the list is:\",total)"
      ],
      "execution_count": 0,
      "outputs": [
        {
          "output_type": "stream",
          "text": [
            "sum of all elements in the list is: 10\n"
          ],
          "name": "stdout"
        }
      ]
    },
    {
      "cell_type": "markdown",
      "metadata": {
        "id": "rxImCfa7BEZi",
        "colab_type": "text"
      },
      "source": [
        "# Question 4:\n",
        "print only even numbers from the list"
      ]
    },
    {
      "cell_type": "code",
      "metadata": {
        "id": "lzXlp7lQBKnJ",
        "colab_type": "code",
        "outputId": "ba2d144f-3db3-4b8a-b442-89f027065576",
        "colab": {
          "base_uri": "https://localhost:8080/",
          "height": 34
        }
      },
      "source": [
        "list2=[4,5,6,7,8,9,10]\n",
        "for num in list2:\n",
        "  if num%2 == 0:\n",
        "    print(num,end=\" \")"
      ],
      "execution_count": 0,
      "outputs": [
        {
          "output_type": "stream",
          "text": [
            "4 6 8 10 "
          ],
          "name": "stdout"
        }
      ]
    },
    {
      "cell_type": "markdown",
      "metadata": {
        "id": "vWgLcGt0BX_z",
        "colab_type": "text"
      },
      "source": [
        "# Question 5:\n",
        "Write a Python program to get the smallest number from a list and display index of smallest element of the list"
      ]
    },
    {
      "cell_type": "code",
      "metadata": {
        "id": "a09UlI9ZBafA",
        "colab_type": "code",
        "outputId": "aed4bfd4-37ed-4634-c151-80c3ddce3f5f",
        "colab": {
          "base_uri": "https://localhost:8080/",
          "height": 51
        }
      },
      "source": [
        "list=[10,3,67,34,2,56]\n",
        "a=min(list)\n",
        "print(\"smallest element is:\",a)\n",
        "print(\"the index of smallest element is:\",list.index(a))"
      ],
      "execution_count": 0,
      "outputs": [
        {
          "output_type": "stream",
          "text": [
            "smallest element is: 2\n",
            "the index of smallest element is: 4\n"
          ],
          "name": "stdout"
        }
      ]
    },
    {
      "cell_type": "markdown",
      "metadata": {
        "id": "SGOjcqgLBgwq",
        "colab_type": "text"
      },
      "source": [
        "# Question 6:\n",
        "Write a Python function that checks whether a passed string is palindrome or not."
      ]
    },
    {
      "cell_type": "code",
      "metadata": {
        "id": "D0O2iXa5BnIC",
        "colab_type": "code",
        "outputId": "0967c2d4-53b7-4212-d617-6bebd717b0cc",
        "colab": {
          "base_uri": "https://localhost:8080/",
          "height": 51
        }
      },
      "source": [
        "\n",
        "def palindrome(s):\n",
        "  if s== s[::-1]:\n",
        "    print(\"Given string is palindrome\")\n",
        "  else:\n",
        "    print(\"Given string is not a palindrome\")\n",
        "s=input(\"Enter a string\")\n",
        "palindrome(s)"
      ],
      "execution_count": 0,
      "outputs": [
        {
          "output_type": "stream",
          "text": [
            "Enter a stringmadam\n",
            "Given string is palindrome\n"
          ],
          "name": "stdout"
        }
      ]
    },
    {
      "cell_type": "markdown",
      "metadata": {
        "id": "NROPtlNABv_w",
        "colab_type": "text"
      },
      "source": [
        "# Question 7:\n",
        "Write a Python program to count the number of even and odd numbers from a series of numbers. Sample numbers : numbers = [1, 2, 3, 4, 5, 6, 7, 8, 9] Expected Output : Number of even numbers : 4 Number of odd numbers : 5"
      ]
    },
    {
      "cell_type": "code",
      "metadata": {
        "id": "-qMNQd5XBpmq",
        "colab_type": "code",
        "outputId": "4dd0c32f-c19b-4628-ed78-16518866359e",
        "colab": {
          "base_uri": "https://localhost:8080/",
          "height": 51
        }
      },
      "source": [
        "list3=[2,3,4,5,6,7,8]\n",
        "count=0\n",
        "counts=0\n",
        "for i in list3:\n",
        "  if i%2 == 0:\n",
        "    count+=1\n",
        "  else:\n",
        "    counts+=1\n",
        "print(\"Number of even numbers:\",count)\n",
        "print(\"Number of odd numbers:\",counts)"
      ],
      "execution_count": 0,
      "outputs": [
        {
          "output_type": "stream",
          "text": [
            "Number of even numbers: 4\n",
            "Number of odd numbers: 3\n"
          ],
          "name": "stdout"
        }
      ]
    },
    {
      "cell_type": "markdown",
      "metadata": {
        "id": "58d3U6u7B7mw",
        "colab_type": "text"
      },
      "source": [
        "\n",
        "#Question 8:\n",
        "Write a Python program that prints all the numbers from 0 to 6 except 3 and 6. Note : Use 'continue' statement. Expected Output : 0 1 2 4 5"
      ]
    },
    {
      "cell_type": "code",
      "metadata": {
        "id": "X5GuFEOoCAYZ",
        "colab_type": "code",
        "outputId": "1112a213-f992-4834-fe74-39b9a8931cd4",
        "colab": {
          "base_uri": "https://localhost:8080/",
          "height": 34
        }
      },
      "source": [
        "for i in range(0,7):\n",
        "  if (i==3 or i==6):\n",
        "    continue\n",
        "  else:\n",
        "    print(i,end=\" \")"
      ],
      "execution_count": 0,
      "outputs": [
        {
          "output_type": "stream",
          "text": [
            "0 1 2 4 5 "
          ],
          "name": "stdout"
        }
      ]
    },
    {
      "cell_type": "code",
      "metadata": {
        "id": "n26igdDsCEa2",
        "colab_type": "code",
        "colab": {}
      },
      "source": [
        ""
      ],
      "execution_count": 0,
      "outputs": []
    }
  ]
}