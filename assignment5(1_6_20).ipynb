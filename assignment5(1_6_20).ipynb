{
  "nbformat": 4,
  "nbformat_minor": 0,
  "metadata": {
    "colab": {
      "name": "assignment5(1-6-20).ipynb",
      "provenance": [],
      "authorship_tag": "ABX9TyOTsIR9+78FbPPFQNrdK1dP",
      "include_colab_link": true
    },
    "kernelspec": {
      "name": "python3",
      "display_name": "Python 3"
    }
  },
  "cells": [
    {
      "cell_type": "markdown",
      "metadata": {
        "id": "view-in-github",
        "colab_type": "text"
      },
      "source": [
        "<a href=\"https://colab.research.google.com/github/sakshi953/Adva-prog/blob/master/assignment5(1_6_20).ipynb\" target=\"_parent\"><img src=\"https://colab.research.google.com/assets/colab-badge.svg\" alt=\"Open In Colab\"/></a>"
      ]
    },
    {
      "cell_type": "markdown",
      "metadata": {
        "id": "qIsc0_rEAHsC",
        "colab_type": "text"
      },
      "source": [
        "CSE-221710307053-SAKSHI.K"
      ]
    },
    {
      "cell_type": "code",
      "metadata": {
        "id": "O9vJ7P2l7KNm",
        "colab_type": "code",
        "outputId": "2786dcda-33de-4e0f-93ec-06aa39a2a290",
        "colab": {
          "base_uri": "https://localhost:8080/",
          "height": 84
        }
      },
      "source": [
        "import random\n",
        "adj1 = ['atrractive','lazy','sleepy','elegant','fancy','dazzling']\n",
        "noun1 = ['girl','honey','ocean','painting','ship']\n",
        "symbols =['%','#','$','%','^','_','@']\n",
        "while True:\n",
        "  adjective = str(random.choice(adj1))\n",
        "  noun = str(random.choice(noun1))\n",
        "  num = str(random.randint(1,100))\n",
        "  symb = str(random.choice(symbols))\n",
        "  print(adjective+noun+num+symb)\n",
        "  p = input(\"want another password :\")\n",
        "  if p == \"No\":\n",
        "     break\n",
        "  else:\n",
        "     continue"
      ],
      "execution_count": 0,
      "outputs": [
        {
          "output_type": "stream",
          "text": [
            "elegantgirl58%\n",
            "want another password :Yes\n",
            "elegantship79%\n",
            "want another password :No\n"
          ],
          "name": "stdout"
        }
      ]
    },
    {
      "cell_type": "markdown",
      "metadata": {
        "id": "HFI_60JSAFl3",
        "colab_type": "text"
      },
      "source": [
        ""
      ]
    },
    {
      "cell_type": "markdown",
      "metadata": {
        "id": "-36awiOqAGZY",
        "colab_type": "text"
      },
      "source": [
        ""
      ]
    },
    {
      "cell_type": "code",
      "metadata": {
        "id": "pLC62ml_-bBS",
        "colab_type": "code",
        "colab": {}
      },
      "source": [
        ""
      ],
      "execution_count": 0,
      "outputs": []
    }
  ]
}