{
  "nbformat": 4,
  "nbformat_minor": 0,
  "metadata": {
    "colab": {
      "name": "Untitled9.ipynb",
      "provenance": [],
      "authorship_tag": "ABX9TyPi5AOz7ayezJNJfwhiidzM",
      "include_colab_link": true
    },
    "kernelspec": {
      "name": "python3",
      "display_name": "Python 3"
    }
  },
  "cells": [
    {
      "cell_type": "markdown",
      "metadata": {
        "id": "view-in-github",
        "colab_type": "text"
      },
      "source": [
        "<a href=\"https://colab.research.google.com/github/sakshi953/Adva-prog/blob/master/Untitled9.ipynb\" target=\"_parent\"><img src=\"https://colab.research.google.com/assets/colab-badge.svg\" alt=\"Open In Colab\"/></a>"
      ]
    },
    {
      "cell_type": "code",
      "metadata": {
        "id": "ViQdnBjTP99h",
        "colab_type": "code",
        "colab": {}
      },
      "source": [
        "#include <stdio.h>\n",
        "int main()\n",
        "{\n",
        "    int a[3][3],i,j;\n",
        "    printf(\"enter elements into the matrix:\");\n",
        "    for(i=0;i<3;i++)\n",
        "    for(j=0;j<3;j++)\n",
        "    scanf(\"%d\",&a[i][j]);\n",
        "    printf(\"upper triangle elemnts:\");\n",
        "    for(i=0;i<3;i++)\n",
        "    for(j=0;j<3;j++)\n",
        "    if(i<j)\n",
        "    printf(\"%d\",a[i][j]);\n",
        "}\n",
        "\n",
        "#upper triangular matrix"
      ],
      "execution_count": 0,
      "outputs": []
    },
    {
      "cell_type": "code",
      "metadata": {
        "id": "Q_BstQTnQC-k",
        "colab_type": "code",
        "colab": {}
      },
      "source": [
        "#include <stdio.h>\n",
        "int main()\n",
        "{\n",
        "    int a[3][3],i,j,sum=0;\n",
        "    printf(\"enter elements into the matrix:\");\n",
        "    for(i=0;i<3;i++)\n",
        "    for(j=0;j<3;j++)\n",
        "    scanf(\"%d\",&a[i][j]);\n",
        "    printf(\"off diagonal sum:\");\n",
        "    for(i=0;i<3;i++)\n",
        "    for(j=0;j<3;j++)\n",
        "    if(i==j || i+j==2)\n",
        "    sum = sum+a[i][j];\n",
        "    printf(\"%d\",sum);\n",
        "}\n",
        "\n",
        "#off diagonal sum"
      ],
      "execution_count": 0,
      "outputs": []
    },
    {
      "cell_type": "code",
      "metadata": {
        "id": "j3aUFqPPfdP2",
        "colab_type": "code",
        "colab": {}
      },
      "source": [
        "#include<stdio.h>\n",
        "int main()\n",
        "{\n",
        "    int i,j;\n",
        "    char name[1][10];\n",
        "    printf(\"enter name\");\n",
        "    for(i=0;i<1;i++)\n",
        "    for(j=0;j<10;j++)\n",
        "    scanf(\"%c\",&name[i][j]);\n",
        "    printf(\"%s\",name);\n",
        "}\n",
        "\n",
        "enter namesakshi                                                                                                                              \n",
        "ads                                                                                                                                           \n",
        "sakshi                                                                                                                                        \n",
        "ads   "
      ],
      "execution_count": 0,
      "outputs": []
    },
    {
      "cell_type": "code",
      "metadata": {
        "id": "N91D-AqAlZtj",
        "colab_type": "code",
        "colab": {}
      },
      "source": [
        ""
      ],
      "execution_count": 0,
      "outputs": []
    },
    {
      "cell_type": "code",
      "metadata": {
        "id": "7vqnlFRxfhyp",
        "colab_type": "code",
        "colab": {}
      },
      "source": [
        "#include<stdio.h>\n",
        "int main()\n",
        "{\n",
        "    int i,j;\n",
        "    char name[1][10];\n",
        "    printf(\"enter name\");\n",
        "    scanf(\"%s\",&name);\n",
        "   \n",
        "    printf(\"%s\",name);\n",
        "}\n",
        "enter namesakshi                                                                                                                              \n",
        "sakshi "
      ],
      "execution_count": 0,
      "outputs": []
    },
    {
      "cell_type": "code",
      "metadata": {
        "id": "zX3I67izgC1I",
        "colab_type": "code",
        "colab": {}
      },
      "source": [
        "#include<stdio.h>\n",
        "int main()\n",
        "{\n",
        "    int i,j;\n",
        "    char name[1][10];\n",
        "    printf(\"enter name\");\n",
        "    scanf(\"%s\",&name);\n",
        "   //in this it will take six spaces in which ur name is allocated in this output u can see two spaces before abcd\n",
        "    printf(\"%6s\",name);//right justified\n",
        "    printf(\"\\n\");\n",
        "    printf(\"%-6s\",name);//left justified\n",
        "    printf(\"hello\");\n",
        "}\n",
        "\n",
        "op:\n",
        "enter nameabcd                                                                                                                                \n",
        "  abcd                                                                                                                                        \n",
        "abcd  hello"
      ],
      "execution_count": 0,
      "outputs": []
    },
    {
      "cell_type": "code",
      "metadata": {
        "id": "86Au1-unimJ6",
        "colab_type": "code",
        "colab": {}
      },
      "source": [
        "#include<stdio.h>\n",
        "#include<string.h>\n",
        "int main()\n",
        "{\n",
        "    int i,count=0;\n",
        "    char name[10]=\"sakshi\";\n",
        "    //printf(\"%s%d\",name,strlen(name));other method \n",
        "    for(i=0;name[i]!='\\0';i++)\n",
        "    count++;\n",
        "    printf(\"%d\",count);\n",
        "}\n",
        "6 "
      ],
      "execution_count": 0,
      "outputs": []
    },
    {
      "cell_type": "code",
      "metadata": {
        "id": "slWQb4FClNks",
        "colab_type": "code",
        "colab": {}
      },
      "source": [
        "#include<stdio.h>\n",
        "#include<string.h>\n",
        "int main()\n",
        "{\n",
        "    int i,count=0;\n",
        "    char s1[10]=\"sakshi\";\n",
        "    char s2[10]=\"hello\";\n",
        "    strcpy(s1,s2);//s1 is destination and s2 is source\n",
        "    printf(\"%s\",s1);\n",
        "}\n",
        "hello "
      ],
      "execution_count": 0,
      "outputs": []
    },
    {
      "cell_type": "code",
      "metadata": {
        "id": "3_LA1mf5la9S",
        "colab_type": "code",
        "colab": {}
      },
      "source": [
        " "
      ],
      "execution_count": 0,
      "outputs": []
    }
  ]
}