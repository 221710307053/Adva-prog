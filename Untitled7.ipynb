{
  "nbformat": 4,
  "nbformat_minor": 0,
  "metadata": {
    "colab": {
      "name": "Untitled7.ipynb",
      "provenance": [],
      "authorship_tag": "ABX9TyO1q/MDXddZ+rFIQgS3UW5t",
      "include_colab_link": true
    },
    "kernelspec": {
      "name": "python3",
      "display_name": "Python 3"
    }
  },
  "cells": [
    {
      "cell_type": "markdown",
      "metadata": {
        "id": "view-in-github",
        "colab_type": "text"
      },
      "source": [
        "<a href=\"https://colab.research.google.com/github/sakshi953/Adva-prog/blob/master/Untitled7.ipynb\" target=\"_parent\"><img src=\"https://colab.research.google.com/assets/colab-badge.svg\" alt=\"Open In Colab\"/></a>"
      ]
    },
    {
      "cell_type": "code",
      "metadata": {
        "id": "53SXGfiqvGn4",
        "colab_type": "code",
        "colab": {}
      },
      "source": [
        "#include <stdio.h>\n",
        "int main()\n",
        "{\n",
        "    int n,i,sum=0;\n",
        "    printf(\"enter n value\");\n",
        "    scanf(\"%d\",&n);\n",
        "    for(i=0;i<=n;i++)\n",
        "    sum=sum+i*i;\n",
        "    printf(\"sum of first %d natural number id %d\",n,sum);\n",
        "}\n",
        "\n",
        "\n"
      ],
      "execution_count": 0,
      "outputs": []
    },
    {
      "cell_type": "code",
      "metadata": {
        "id": "Fdgm4ODLvKEh",
        "colab_type": "code",
        "colab": {}
      },
      "source": [
        "#factorial program\n",
        "#include <stdio.h>\n",
        "int main()\n",
        "{\n",
        "    int n,i,fact=1;\n",
        "    printf(\"enter n value\");\n",
        "    scanf(\"%d\",&n);\n",
        "    for(i=1;i<=n;i++)\n",
        "    fact=fact*i;\n",
        "    printf(\"sum of first %d natural number id %d\",n,fact);\n",
        "}\n",
        "op:\n",
        "enter n value5                                                                                                                                \n",
        "sum of first 5 natural number id 120 \n",
        "\n"
      ],
      "execution_count": 0,
      "outputs": []
    },
    {
      "cell_type": "code",
      "metadata": {
        "id": "lch9MpTExITN",
        "colab_type": "code",
        "colab": {}
      },
      "source": [
        "#include <stdio.h>\n",
        "int main()\n",
        "{\n",
        "    int n,i;\n",
        "    printf(\"enter n value\");\n",
        "    scanf(\"%d\",&n);\n",
        "    printf(\"factors of %d\",n);\n",
        "    for(i=1;i<=n;i++)\n",
        "    {\n",
        "        if(n%i==0)\n",
        "         printf(\"\\t %d\",i);\n",
        "    }\n",
        "}\n",
        "\n",
        "\n",
        "enter n value8                                                                                                                                \n",
        "factors of 8     1       2       4       8    "
      ],
      "execution_count": 0,
      "outputs": []
    },
    {
      "cell_type": "code",
      "metadata": {
        "id": "454OIeW90dgb",
        "colab_type": "code",
        "colab": {}
      },
      "source": [
        "#include <stdio.h>\n",
        "int main()\n",
        "{\n",
        "    int n,i,sum=0,count=0;\n",
        "    printf(\"enter n value\");\n",
        "    scanf(\"%d\",&n);\n",
        "    for(i=1;i<n;i++)\n",
        "    if(n%i==0)\n",
        "    count++;\n",
        "    if(count==2)\n",
        "    printf(\"%d is prime\",n);\n",
        "    else\n",
        "    printf(\"num is not prime\");\n",
        "\n",
        "}\n",
        "enter n value8                                                                                                                                \n",
        "num is not prime                                                                                                                              \n",
        "                   "
      ],
      "execution_count": 0,
      "outputs": []
    },
    {
      "cell_type": "code",
      "metadata": {
        "id": "mAnIRIBC69c3",
        "colab_type": "code",
        "colab": {}
      },
      "source": [
        "#include <stdio.h>\n",
        "int main()\n",
        "{\n",
        "    int n,i,sum=0,count=0;\n",
        "    printf(\"enter n value\");\n",
        "    scanf(\"%d\",&n);\n",
        "    for(i=2;i<n;i++)#toreducecomplexity we excluded 1 and itself\n",
        "    if(n%i==0)\n",
        "    count++;\n",
        "    if(count==0)#if count==0 number is prime\n",
        "    printf(\"%d is prime\",n);\n",
        "    else\n",
        "    printf(\"num is not prime\");\n",
        "\n",
        "}\n",
        "                  "
      ],
      "execution_count": 0,
      "outputs": []
    },
    {
      "cell_type": "code",
      "metadata": {
        "id": "JrSYOB8F7NJo",
        "colab_type": "code",
        "colab": {}
      },
      "source": [
        "#include <stdio.h>\n",
        "int main()\n",
        "{\n",
        "    int n,i,sum=0,count=0;\n",
        "    printf(\"enter n value\");\n",
        "    scanf(\"%d\",&n);\n",
        "    for(i=2;i<=n/2;i++)\n",
        "    if(n%i==0)\n",
        "    {\n",
        "    count++;\n",
        "    break;\n",
        "    }\n",
        "    if(count==0)\n",
        "    printf(\"%d is prime\",n);\n",
        "    else\n",
        "    printf(\"num is not prime\");\n",
        "\n",
        "}\n",
        "#same program using break \n"
      ],
      "execution_count": 0,
      "outputs": []
    },
    {
      "cell_type": "code",
      "metadata": {
        "id": "8oWG8X268i6z",
        "colab_type": "code",
        "colab": {}
      },
      "source": [
        "#include<stdio.h>\n",
        "int main()\n",
        "{\n",
        "    int n,rem=0,sum=0;\n",
        "    printf(\"enter a n\");\n",
        "    scanf(\"%d\",&n);\n",
        "    while(n>0)\n",
        "    {\n",
        "        rem=n%10;\n",
        "        n=n/10;\n",
        "        sum=sum+rem;\n",
        "    }\n",
        "    printf(\"%d\",sum);\n",
        "}\n",
        "op\n",
        "\n",
        "#sum of digits of a num"
      ],
      "execution_count": 0,
      "outputs": []
    },
    {
      "cell_type": "code",
      "metadata": {
        "id": "9_OmeOZuJPP1",
        "colab_type": "code",
        "colab": {}
      },
      "source": [
        "#include<stdio.h>\n",
        "int main()\n",
        "{\n",
        "    int n,bin=0,rem=0;\n",
        "    printf(\"enter a n\");\n",
        "    scanf(\"%d\",&n);\n",
        "    while(n>0)\n",
        "    {\n",
        "        rem=n%2;\n",
        "        bin=bin*10+rem;\n",
        "        n=n/2;\n",
        "    }\n",
        "    printf(\"%d\",bin);\n",
        "}\n",
        "#decimal to binary\n",
        "op:\n",
        "enter a n22                                                                                                                                   \n",
        "1101   "
      ],
      "execution_count": 0,
      "outputs": []
    },
    {
      "cell_type": "code",
      "metadata": {
        "id": "E9vtVf07Jeb1",
        "colab_type": "code",
        "colab": {}
      },
      "source": [
        "#program to reverse a number\n",
        "#include<stdio.h>\n",
        "int main()\n",
        "{\n",
        "    int n,r=0,rev=0;\n",
        "    printf(\"enter a n\");\n",
        "    scanf(\"%d\",&n);\n",
        "    while(n>0)\n",
        "    {\n",
        "        r=n%10;\n",
        "        rev=rev*10+r;\n",
        "        n=n/10;\n",
        "    }\n",
        "    printf(\"%d\",rev);\n",
        "}\n",
        "\n",
        "enter a n1234                                                                                                                                 \n",
        "4321      "
      ],
      "execution_count": 0,
      "outputs": []
    },
    {
      "cell_type": "code",
      "metadata": {
        "id": "jlyDbN4-N27I",
        "colab_type": "code",
        "colab": {}
      },
      "source": [
        "#include <stdio.h>\n",
        "int main() {\n",
        "    int n, reversedN = 0, remainder, originalN;\n",
        "    printf(\"Enter an integer: \");\n",
        "    scanf(\"%d\", &n);\n",
        "    originalN = n;\n",
        "\n",
        "    \n",
        "    while (n > 0) {\n",
        "        remainder = n % 10;\n",
        "        reversedN = reversedN * 10 + remainder;\n",
        "        n /= 10;\n",
        "    }\n",
        "\n",
        "    \n",
        "    if (originalN == reversedN)\n",
        "        printf(\"%d is a palindrome.\", originalN);\n",
        "    else\n",
        "        printf(\"%d is not a palindrome.\", originalN);\n",
        "\n",
        "    return 0;\n",
        "}\n",
        "Enter an integer: 121                                                                                                                         \n",
        "121 is a palindrome"
      ],
      "execution_count": 0,
      "outputs": []
    },
    {
      "cell_type": "code",
      "metadata": {
        "id": "GAgTw7IYN8Lw",
        "colab_type": "code",
        "colab": {}
      },
      "source": [
        ""
      ],
      "execution_count": 0,
      "outputs": []
    }
  ]
}