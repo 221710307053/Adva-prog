{
  "nbformat": 4,
  "nbformat_minor": 0,
  "metadata": {
    "colab": {
      "name": "Untitled1.ipynb",
      "provenance": [],
      "authorship_tag": "ABX9TyM/DqZMnb3jEuEkb3DV6AnT",
      "include_colab_link": true
    },
    "kernelspec": {
      "name": "python3",
      "display_name": "Python 3"
    }
  },
  "cells": [
    {
      "cell_type": "markdown",
      "metadata": {
        "id": "view-in-github",
        "colab_type": "text"
      },
      "source": [
        "<a href=\"https://colab.research.google.com/github/sakshi953/Adva-prog/blob/master/Untitled1.ipynb\" target=\"_parent\"><img src=\"https://colab.research.google.com/assets/colab-badge.svg\" alt=\"Open In Colab\"/></a>"
      ]
    },
    {
      "cell_type": "code",
      "metadata": {
        "id": "O8kVQbxs9ZcN",
        "colab_type": "code",
        "colab": {}
      },
      "source": [
        ""
      ],
      "execution_count": 0,
      "outputs": []
    },
    {
      "cell_type": "markdown",
      "metadata": {
        "id": "l7h0JePN9bYM",
        "colab_type": "text"
      },
      "source": [
        "##1. Generate the following pattern\n",
        "      *\n",
        "      *  *\n",
        "      *  *  *\n",
        "      *  *  *  *\n",
        "      *  *  *  *  *\n"
      ]
    },
    {
      "cell_type": "code",
      "metadata": {
        "id": "DALvV0tO9sQK",
        "colab_type": "code",
        "colab": {
          "base_uri": "https://localhost:8080/",
          "height": 185
        },
        "outputId": "b7dd07b0-3188-4ce4-9066-95259df918a7"
      },
      "source": [
        "for i in range(1,6):\n",
        "  for j in range(1,i+1):  \n",
        "    print(\"*\",end=\" \")\n",
        "  print(\"\\n\")"
      ],
      "execution_count": 10,
      "outputs": [
        {
          "output_type": "stream",
          "text": [
            "* \n",
            "\n",
            "* * \n",
            "\n",
            "* * * \n",
            "\n",
            "* * * * \n",
            "\n",
            "* * * * * \n",
            "\n"
          ],
          "name": "stdout"
        }
      ]
    },
    {
      "cell_type": "code",
      "metadata": {
        "id": "EbkgqQuh-G0u",
        "colab_type": "code",
        "colab": {}
      },
      "source": [
        ""
      ],
      "execution_count": 0,
      "outputs": []
    },
    {
      "cell_type": "markdown",
      "metadata": {
        "id": "Rw6XKcih_HGh",
        "colab_type": "text"
      },
      "source": [
        "#2. Display multiplication table of K. Take k value from user\n",
        "     Ex:      7 x 1 =7\n",
        "            7 x 2 = 14   .....\n"
      ]
    },
    {
      "cell_type": "code",
      "metadata": {
        "id": "njg2g7nR_SKF",
        "colab_type": "code",
        "colab": {
          "base_uri": "https://localhost:8080/",
          "height": 202
        },
        "outputId": "f5e8c428-1c34-4a7a-8831-b40aad2a22d4"
      },
      "source": [
        "k = int(input(\"Enter the value of k : \"))\n",
        "for i in range(1,11):\n",
        "  print(k,\" * \",i,\" = \",k*i)\n"
      ],
      "execution_count": 7,
      "outputs": [
        {
          "output_type": "stream",
          "text": [
            "Enter the value of k : 7\n",
            "7  *  1  =  7\n",
            "7  *  2  =  14\n",
            "7  *  3  =  21\n",
            "7  *  4  =  28\n",
            "7  *  5  =  35\n",
            "7  *  6  =  42\n",
            "7  *  7  =  49\n",
            "7  *  8  =  56\n",
            "7  *  9  =  63\n",
            "7  *  10  =  70\n"
          ],
          "name": "stdout"
        }
      ]
    },
    {
      "cell_type": "code",
      "metadata": {
        "id": "xEwfl435_49V",
        "colab_type": "code",
        "colab": {}
      },
      "source": [
        ""
      ],
      "execution_count": 0,
      "outputs": []
    },
    {
      "cell_type": "markdown",
      "metadata": {
        "id": "zcesSc3-_84J",
        "colab_type": "text"
      },
      "source": [
        "#4. Convert a decimal number to Binary\n"
      ]
    },
    {
      "cell_type": "code",
      "metadata": {
        "id": "0H2uEuCyADiq",
        "colab_type": "code",
        "colab": {
          "base_uri": "https://localhost:8080/",
          "height": 50
        },
        "outputId": "8e56967b-3f66-45d1-853c-28b26ff68b7e"
      },
      "source": [
        "x = int(input(\"Enter x value\"))\n",
        "print(bin(x))"
      ],
      "execution_count": 8,
      "outputs": [
        {
          "output_type": "stream",
          "text": [
            "Enter x value21\n",
            "0b10101\n"
          ],
          "name": "stdout"
        }
      ]
    },
    {
      "cell_type": "code",
      "metadata": {
        "id": "TvNc2lkaAU_v",
        "colab_type": "code",
        "colab": {}
      },
      "source": [
        "\n"
      ],
      "execution_count": 0,
      "outputs": []
    },
    {
      "cell_type": "markdown",
      "metadata": {
        "id": "I4d_76JxDwYF",
        "colab_type": "text"
      },
      "source": [
        "#3. Roots of quadratic equation\n",
        "      Take the coefficients a,b,c from the user\n"
      ]
    },
    {
      "cell_type": "code",
      "metadata": {
        "id": "Y2txSQNoD5Pr",
        "colab_type": "code",
        "colab": {
          "base_uri": "https://localhost:8080/",
          "height": 101
        },
        "outputId": "8c4402aa-9a60-4ed4-af25-2cec3502df48"
      },
      "source": [
        "import cmath\n",
        "a = int(input(\"Enter a value\"))\n",
        "b = int(input(\"Enter b value\"))\n",
        "c = int(input(\"Enter c value\"))\n",
        "d = (b*b-4*a*c)\n",
        "if d>0:\n",
        "  r1 = -b+math.sqrt(d)/2*a\n",
        "  r2 = -b-math.sqrt(d)/2*a\n",
        "  print(r1,\"\\n\",r2)\n",
        "elif d<0:\n",
        "  r3 = complex(-b+cmath.sqrt(d)/2*a)\n",
        "  r4 = complex(-b-cmath.sqrt(d)/2*a)\n",
        "  print(r3,\"\\n\",r4)\n",
        "elif d==0:\n",
        "  r = (-b)/2*a\n",
        "  print(r)"
      ],
      "execution_count": 12,
      "outputs": [
        {
          "output_type": "stream",
          "text": [
            "Enter a value3\n",
            "Enter b value2\n",
            "Enter c value1\n",
            "(-2+4.242640687119286j) \n",
            " (-2-4.242640687119286j)\n"
          ],
          "name": "stdout"
        }
      ]
    },
    {
      "cell_type": "markdown",
      "metadata": {
        "id": "hD4w-jXPAa6m",
        "colab_type": "text"
      },
      "source": [
        "# 5. Generate first N number of Fibonacci numbers. Take N value from the user\n",
        "\n"
      ]
    },
    {
      "cell_type": "code",
      "metadata": {
        "id": "nnmKy0iKKSDe",
        "colab_type": "code",
        "colab": {
          "base_uri": "https://localhost:8080/",
          "height": 50
        },
        "outputId": "1a9d0831-b676-4963-f61c-aa2ba17260f6"
      },
      "source": [
        "n = int(input(\"enter the value of n\"))\n",
        "n1=0\n",
        "n2=1\n",
        "if n<=0:\n",
        "   print(\"The series is\",n1)\n",
        "else:\n",
        "  print(n1,n2,end = \" \")\n",
        "  for i in range(2,n):\n",
        "      next = n1+n2\n",
        "      print(next,end=\" \")\n",
        "      n1 = n2\n",
        "      n2 = next"
      ],
      "execution_count": 15,
      "outputs": [
        {
          "output_type": "stream",
          "text": [
            "enter the value of n8\n",
            "0 1 1 2 3 5 8 13 "
          ],
          "name": "stdout"
        }
      ]
    },
    {
      "cell_type": "code",
      "metadata": {
        "id": "uJ4r8USKN2S0",
        "colab_type": "code",
        "colab": {}
      },
      "source": [
        ""
      ],
      "execution_count": 0,
      "outputs": []
    }
  ]
}