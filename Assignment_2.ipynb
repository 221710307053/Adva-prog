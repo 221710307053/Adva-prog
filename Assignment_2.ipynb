{
  "nbformat": 4,
  "nbformat_minor": 0,
  "metadata": {
    "colab": {
      "name": "Assignment 2",
      "provenance": [],
      "authorship_tag": "ABX9TyPPbXkSiSWL3kuzqyEyghpU",
      "include_colab_link": true
    },
    "kernelspec": {
      "name": "python3",
      "display_name": "Python 3"
    }
  },
  "cells": [
    {
      "cell_type": "markdown",
      "metadata": {
        "id": "view-in-github",
        "colab_type": "text"
      },
      "source": [
        "<a href=\"https://colab.research.google.com/github/sakshi953/Adva-prog/blob/master/Assignment_2.ipynb\" target=\"_parent\"><img src=\"https://colab.research.google.com/assets/colab-badge.svg\" alt=\"Open In Colab\"/></a>"
      ]
    },
    {
      "cell_type": "code",
      "metadata": {
        "id": "YbvUr7HQ_34n",
        "colab_type": "code",
        "colab": {}
      },
      "source": [
        ""
      ],
      "execution_count": 0,
      "outputs": []
    },
    {
      "cell_type": "markdown",
      "metadata": {
        "id": "jphvc1PpfXNw",
        "colab_type": "text"
      },
      "source": [
        "#CSE-221710307053-Sakshi.K\n"
      ]
    },
    {
      "cell_type": "markdown",
      "metadata": {
        "id": "-AuzYDrq_7kc",
        "colab_type": "text"
      },
      "source": [
        "#Question 10:\n",
        "Write a Python program to find the median of three values.\n",
        "Expected Output:\n",
        "Input first number: 26                                            \n",
        "Input second number: 15                                                \n",
        "Input third number: 29                                                  \n",
        "The median is 26\n",
        "\n"
      ]
    },
    {
      "cell_type": "code",
      "metadata": {
        "id": "y0L7rwTGABA1",
        "colab_type": "code",
        "outputId": "9f1a3718-37c2-4ea1-8d3c-3f2d8aa31c52",
        "colab": {
          "base_uri": "https://localhost:8080/",
          "height": 134
        }
      },
      "source": [
        "a = int(input(print(\"enter first number:\")))\n",
        "b = int(input(print(\"enter second number:\")))\n",
        "c = int(input(print(\"enter second number:\")))\n",
        "if a > b:\n",
        "    if a < c:\n",
        "      median = a\n",
        "    elif b > c:\n",
        "       median = b\n",
        "    else:\n",
        "      median = c\n",
        "else:\n",
        "    if a > c:\n",
        "      median = a\n",
        "    elif b < c:\n",
        "      median = b\n",
        "    else:\n",
        "      median = c\n",
        "print(\"The median is\",median)\n"
      ],
      "execution_count": 0,
      "outputs": [
        {
          "output_type": "stream",
          "text": [
            "enter first number:\n",
            "26\n",
            "enter second number:\n",
            "15\n",
            "enter second number:\n",
            "29\n",
            "The median is 26\n"
          ],
          "name": "stdout"
        }
      ]
    },
    {
      "cell_type": "code",
      "metadata": {
        "id": "WTfZNs8yIgrv",
        "colab_type": "code",
        "colab": {}
      },
      "source": [
        ""
      ],
      "execution_count": 0,
      "outputs": []
    },
    {
      "cell_type": "markdown",
      "metadata": {
        "id": "iGgPGKfvIkMP",
        "colab_type": "text"
      },
      "source": [
        "#Question 7:\n",
        "Accept input as a string and display sum of digits as the output \n",
        "input:Appli123cation456 \n",
        "Output: 21\n"
      ]
    },
    {
      "cell_type": "code",
      "metadata": {
        "id": "2nuSz3qCImyz",
        "colab_type": "code",
        "outputId": "01cbb69e-65d5-4272-bf9e-42511f744557",
        "colab": {
          "base_uri": "https://localhost:8080/",
          "height": 50
        }
      },
      "source": [
        "str = input(\"enter a string\")\n",
        "sum = 0\n",
        "for i in str:\n",
        "  if i.isdigit() == True: \n",
        "     z = int(i)\n",
        "     sum = sum + z\n",
        "print(sum)"
      ],
      "execution_count": 0,
      "outputs": [
        {
          "output_type": "stream",
          "text": [
            "enter a stringAppli123cation456\n",
            "21\n"
          ],
          "name": "stdout"
        }
      ]
    },
    {
      "cell_type": "markdown",
      "metadata": {
        "id": "PZNliMDAKqhA",
        "colab_type": "text"
      },
      "source": [
        "#Question 8:\n",
        "Write a program to prompt for a score between 0.0 and 1.0. If the score is out of range, print an error. If the score is between 0.0 and 1.0, print a grade using the following table:\n",
        "Score Grade:\n",
        "1. >= 0.9 A\n",
        "2. >= 0.8 B\n",
        "3. >= 0.7 C\n",
        "4. >= 0.6 D\n",
        "5. < 0.6 F\n",
        "If the user enters a value out of range, print a suitable error message and exit. For the test, enter a score of 0.85\n"
      ]
    },
    {
      "cell_type": "code",
      "metadata": {
        "id": "16nm_og5Jl5-",
        "colab_type": "code",
        "outputId": "7b44c9f9-660b-4768-dad3-735255a124f9",
        "colab": {
          "base_uri": "https://localhost:8080/",
          "height": 50
        }
      },
      "source": [
        "score = float(input(\"Enter a score\"))\n",
        "if score<0.0 or score>1.0:\n",
        "  print(\"error\")\n",
        "elif score>=0.9:\n",
        "  print(\"A\")\n",
        "elif score>=0.8:\n",
        "  print(\"B\")\n",
        "elif score>=0.7:\n",
        "  print(\"C\")\n",
        "elif score>=0.6:\n",
        "  print(\"D\")\n",
        "else:\n",
        "  print(\"F\")"
      ],
      "execution_count": 0,
      "outputs": [
        {
          "output_type": "stream",
          "text": [
            "Enter a score0.85\n",
            "B\n"
          ],
          "name": "stdout"
        }
      ]
    },
    {
      "cell_type": "code",
      "metadata": {
        "id": "ko6PhIKZOGb4",
        "colab_type": "code",
        "colab": {}
      },
      "source": [
        ""
      ],
      "execution_count": 0,
      "outputs": []
    },
    {
      "cell_type": "markdown",
      "metadata": {
        "id": "PVumSiyAXsBV",
        "colab_type": "text"
      },
      "source": [
        "#Write a Python program which iterates the integers from 1 to 50. For multiples of three print \"Fizz\" instead of the number and for the multiples of five print \"Buzz\". For numbers which are multiples of both three and five print \"FizzBuzz\".\n",
        "Sample Output :\n",
        "fizzbuzz\n",
        "1\n",
        "2\n",
        "fizz\n",
        "4\n",
        "buzz\n"
      ]
    },
    {
      "cell_type": "code",
      "metadata": {
        "id": "bZKtWOgSX05o",
        "colab_type": "code",
        "outputId": "c6e2235d-4a54-45a2-8479-fe849c50d166",
        "colab": {
          "base_uri": "https://localhost:8080/",
          "height": 1000
        }
      },
      "source": [
        "for i in range(0,51):\n",
        "  if i%3 == 0 and i%5 == 0:\n",
        "    print(\"FizzBuzz\")\n",
        "  elif i%3 == 0:\n",
        "    print(\"Fizz\")\n",
        "  elif i%5 == 0:\n",
        "    print(\"Buzz\")\n",
        "  print(i)\n"
      ],
      "execution_count": 0,
      "outputs": [
        {
          "output_type": "stream",
          "text": [
            "FizzBuzz\n",
            "0\n",
            "1\n",
            "2\n",
            "Fizz\n",
            "3\n",
            "4\n",
            "Buzz\n",
            "5\n",
            "Fizz\n",
            "6\n",
            "7\n",
            "8\n",
            "Fizz\n",
            "9\n",
            "Buzz\n",
            "10\n",
            "11\n",
            "Fizz\n",
            "12\n",
            "13\n",
            "14\n",
            "FizzBuzz\n",
            "15\n",
            "16\n",
            "17\n",
            "Fizz\n",
            "18\n",
            "19\n",
            "Buzz\n",
            "20\n",
            "Fizz\n",
            "21\n",
            "22\n",
            "23\n",
            "Fizz\n",
            "24\n",
            "Buzz\n",
            "25\n",
            "26\n",
            "Fizz\n",
            "27\n",
            "28\n",
            "29\n",
            "FizzBuzz\n",
            "30\n",
            "31\n",
            "32\n",
            "Fizz\n",
            "33\n",
            "34\n",
            "Buzz\n",
            "35\n",
            "Fizz\n",
            "36\n",
            "37\n",
            "38\n",
            "Fizz\n",
            "39\n",
            "Buzz\n",
            "40\n",
            "41\n",
            "Fizz\n",
            "42\n",
            "43\n",
            "44\n",
            "FizzBuzz\n",
            "45\n",
            "46\n",
            "47\n",
            "Fizz\n",
            "48\n",
            "49\n",
            "Buzz\n",
            "50\n"
          ],
          "name": "stdout"
        }
      ]
    },
    {
      "cell_type": "code",
      "metadata": {
        "id": "y4FIgCMpYsTK",
        "colab_type": "code",
        "colab": {}
      },
      "source": [
        ""
      ],
      "execution_count": 0,
      "outputs": []
    },
    {
      "cell_type": "markdown",
      "metadata": {
        "id": "wOlGfBW0ZACu",
        "colab_type": "text"
      },
      "source": [
        "#Question 2:\n",
        "count the no.of pairs of a in the given string(Infosys InfyTQ)\n",
        "    string →  \"abbaaccbbaaa\"\n",
        "    output →  2\n"
      ]
    },
    {
      "cell_type": "code",
      "metadata": {
        "id": "yzSq4XdJZafH",
        "colab_type": "code",
        "outputId": "f109c151-9408-4a13-ffa4-13bc510809a0",
        "colab": {
          "base_uri": "https://localhost:8080/",
          "height": 50
        }
      },
      "source": [
        "str = input(\"Enter a string\")\n",
        "str.count(\"aa\")"
      ],
      "execution_count": 0,
      "outputs": [
        {
          "output_type": "stream",
          "text": [
            "Enter a stringabbaaccbbaaa\n"
          ],
          "name": "stdout"
        },
        {
          "output_type": "execute_result",
          "data": {
            "text/plain": [
              "2"
            ]
          },
          "metadata": {
            "tags": []
          },
          "execution_count": 20
        }
      ]
    },
    {
      "cell_type": "markdown",
      "metadata": {
        "id": "VZHcSTZp_-Xy",
        "colab_type": "text"
      },
      "source": [
        "#Read the input as two limits and Print the output as Palindrome count between the two limits\n",
        "Example #1; Input : 1 10 Output : 9\n",
        " Example #2: Input : 1 100 Output : 18\n"
      ]
    },
    {
      "cell_type": "code",
      "metadata": {
        "id": "xOulL1FIZp-e",
        "colab_type": "code",
        "outputId": "60ed3082-3707-4ae2-9d7d-18ab26d559a9",
        "colab": {
          "base_uri": "https://localhost:8080/",
          "height": 67
        }
      },
      "source": [
        "a = int(input(\"enter a number a\"))\n",
        "b = int(input(\"enter a number b\"))\n",
        "count = 0\n",
        "for i in range(a,b):\n",
        "   rev = 0\n",
        "   temp = i\n",
        "   while (i>0):\n",
        "    r = i%10\n",
        "    rev = rev*10 + r\n",
        "    i = i//10\n",
        "   if(temp == rev):\n",
        "     count = count + 1\n",
        "print(count)"
      ],
      "execution_count": 0,
      "outputs": [
        {
          "output_type": "stream",
          "text": [
            "enter a number a1\n",
            "enter a number b100\n",
            "18\n"
          ],
          "name": "stdout"
        }
      ]
    },
    {
      "cell_type": "markdown",
      "metadata": {
        "id": "JJ1QjzTHFSx7",
        "colab_type": "text"
      },
      "source": [
        "#Question 5:\n",
        "\n",
        " Accept a number as an input and check whether the given number is palindrome or not\n",
        "if it is a palindrome number print the number on the screen\n",
        "if it is not a palindrome number reverse that number and add it to previous number repeat this until will get a palindrome number and print that palindrome number on the screen\n",
        "input: 127\n",
        "output: 848\n"
      ]
    },
    {
      "cell_type": "code",
      "metadata": {
        "id": "yI6e75ExCDYT",
        "colab_type": "code",
        "outputId": "207adebe-ca6e-4b03-dd47-3fc7a2e1d013",
        "colab": {
          "base_uri": "https://localhost:8080/",
          "height": 50
        }
      },
      "source": [
        "def procedure(rev,temp):\n",
        "  n = rev + temp\n",
        "  palindrome(n)\n",
        "\n",
        "def palindrome(n):\n",
        "   temp = n\n",
        "   rev = 0\n",
        "   while n>0:\n",
        "     r = n%10\n",
        "     rev = rev*10 + r\n",
        "     n = n//10\n",
        "   if(temp == rev):\n",
        "      print(rev)\n",
        "   else:\n",
        "       procedure(rev,temp)\n",
        "n = int(input(\"enter a number\"))\n",
        "palindrome(n)"
      ],
      "execution_count": 0,
      "outputs": [
        {
          "output_type": "stream",
          "text": [
            "enter a number127\n",
            "848\n"
          ],
          "name": "stdout"
        }
      ]
    },
    {
      "cell_type": "markdown",
      "metadata": {
        "id": "vfWdeY5nJLXb",
        "colab_type": "text"
      },
      "source": [
        "#Question 1:\n",
        "Accept a string from the user and count no.of vowels,consonants and special characters\n"
      ]
    },
    {
      "cell_type": "code",
      "metadata": {
        "id": "WMM8pPCDHbQG",
        "colab_type": "code",
        "outputId": "efe2e09b-de76-4f01-963a-ece44bb0e0d6",
        "colab": {
          "base_uri": "https://localhost:8080/",
          "height": 84
        }
      },
      "source": [
        "str = input(\"enter a string\")\n",
        "vowels = 0\n",
        "conso = 0\n",
        "sc = 0\n",
        "str=str.lower()\n",
        "for i in range(0,len(str)):\n",
        "  if str[i] == 'a' or str[i] == 'e' or str[i] == 'i' or str[i] == 'o' or str[i] == 'u':\n",
        "    vowels = vowels + 1\n",
        "  elif str[i]>='a' and str[i]<='z':\n",
        "    conso = conso + 1\n",
        "  else:\n",
        "    sc = sc + 1\n",
        "\n",
        "print(vowels)\n",
        "print(conso)\n",
        "print(sc) "
      ],
      "execution_count": 0,
      "outputs": [
        {
          "output_type": "stream",
          "text": [
            "enter a stringhello!\n",
            "2\n",
            "3\n",
            "1\n"
          ],
          "name": "stdout"
        }
      ]
    },
    {
      "cell_type": "code",
      "metadata": {
        "id": "NywHsBn8KSQ9",
        "colab_type": "code",
        "colab": {}
      },
      "source": [
        ""
      ],
      "execution_count": 0,
      "outputs": []
    },
    {
      "cell_type": "markdown",
      "metadata": {
        "id": "0PoQSTFaOmgh",
        "colab_type": "text"
      },
      "source": [
        "Question 3:\n",
        "    Test case1:\n",
        "        string →  \"((((()()()))))()\"\n",
        "        output →  8\n",
        "    Test case2:\n",
        "        string →  \"((()))()\"\n",
        "        Output →  4\n"
      ]
    },
    {
      "cell_type": "code",
      "metadata": {
        "id": "tOSpKRydOn9b",
        "colab_type": "code",
        "outputId": "a83abfc8-1e10-4b6f-9091-7bff52274bdc",
        "colab": {
          "base_uri": "https://localhost:8080/",
          "height": 50
        }
      },
      "source": [
        "str = input(\"enter a string\")\n",
        "a = 0\n",
        "b = 0\n",
        "for i in range(0,len(str)):\n",
        "     if str[i] == ')':\n",
        "       a = a+1\n",
        "     else :\n",
        "       b = b+1\n",
        "if a<=b:\n",
        "    print(a)\n",
        "elif b<=a:\n",
        "     print(b)     "
      ],
      "execution_count": 0,
      "outputs": [
        {
          "output_type": "stream",
          "text": [
            "enter a string((()))()\n",
            "4\n"
          ],
          "name": "stdout"
        }
      ]
    },
    {
      "cell_type": "code",
      "metadata": {
        "id": "TP2yEboQRDPR",
        "colab_type": "code",
        "colab": {}
      },
      "source": [
        ""
      ],
      "execution_count": 0,
      "outputs": []
    }
  ]
}